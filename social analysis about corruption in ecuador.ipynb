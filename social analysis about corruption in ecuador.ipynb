{
 "cells": [
  {
   "cell_type": "code",
   "execution_count": 3,
   "metadata": {},
   "outputs": [
    {
     "name": "stderr",
     "output_type": "stream",
     "text": [
      "\n",
      "Bad key \"text.kerning_factor\" on line 4 in\n",
      "C:\\Users\\User\\Anaconda3\\lib\\site-packages\\matplotlib\\mpl-data\\stylelib\\_classic_test_patch.mplstyle.\n",
      "You probably need to get an updated matplotlibrc file from\n",
      "https://github.com/matplotlib/matplotlib/blob/v3.1.3/matplotlibrc.template\n",
      "or from the matplotlib source distribution\n"
     ]
    }
   ],
   "source": [
    "import numpy as np\n",
    "import pandas as pd\n",
    "import matplotlib.pyplot as plt\n",
    "%matplotlib inline\n",
    "import seaborn as sns \n",
    "import itertools\n",
    "from setuptools.namespaces import flatten\n",
    "from scipy import stats\n",
    "import GetOldTweets3 as got"
   ]
  },
  {
   "cell_type": "code",
   "execution_count": 4,
   "metadata": {},
   "outputs": [],
   "source": [
    "# function created to form the dataset\n",
    "def get_tweets(tag, state, startdate, enddate, maxtweet):\n",
    "    tweetCriteria = got.manager.TweetCriteria().setQuerySearch(tag)\\\n",
    "                                            .setSince(startdate)\\\n",
    "                                            .setUntil(enddate)\\\n",
    "                                            .setNear(state)\\\n",
    "                                            .setWithin(\"400mi\")\\\n",
    "                                            .setMaxTweets(maxtweet)\n",
    "    tweet = got.manager.TweetManager.getTweets(tweetCriteria)\n",
    "    \n",
    "    text_tweets = [[tw.username,\n",
    "                tw.text,\n",
    "                tw.date,\n",
    "                tw.retweets,\n",
    "                tw.favorites,\n",
    "                tw.mentions,\n",
    "                tw.hashtags,\n",
    "                tw.geo] for tw in tweet]\n",
    "    df_state= pd.DataFrame(text_tweets, columns = ['User', 'Text', 'Date', 'Favorites', 'Retweets', 'Mentions','Hashtags', 'Geolocation'])\n",
    "    \n",
    "    return df_state"
   ]
  },
  {
   "cell_type": "code",
   "execution_count": 5,
   "metadata": {},
   "outputs": [],
   "source": [
    "#abc= get_tweets(tag='Bucaram' ,state='-1.83, -78.18', startdate=\"2020-04-01\", enddate=\"2020-07-30\",maxtweet= 5000)"
   ]
  },
  {
   "cell_type": "code",
   "execution_count": 6,
   "metadata": {},
   "outputs": [],
   "source": [
    "#abc.loc[abc.Mentions!=''] FueraCorrupcionYA\n",
    "#abc"
   ]
  },
  {
   "cell_type": "code",
   "execution_count": null,
   "metadata": {},
   "outputs": [],
   "source": []
  },
  {
   "cell_type": "code",
   "execution_count": 2,
   "metadata": {},
   "outputs": [],
   "source": [
    "#pd.Series(np.array(''.join(list(abc.Hashtags[abc.Hashtags!= '']) ).replace(' ','').split('#'))[ \n",
    "#np.array(''.join(list(abc.Hashtags[abc.Hashtags!= '']) ).replace(' ','').split('#'))!='']).value_counts().head(15)"
   ]
  },
  {
   "cell_type": "code",
   "execution_count": 16,
   "metadata": {},
   "outputs": [],
   "source": [
    "# keywords related to IESS corruption in ecuador\n",
    "for clave in ['daniel salcedo', 'Abraham Muñoz', 'iess', 'carnet discapacitado','Reparto Hospitales',\n",
    "             '#ElPeorGobiernoDeLaHistoria','Bucaram', 'corrupcion ecuador', '#EcuadorEnCrisis',\"daniel mendoza\"]:\n",
    "    lista_df= []\n",
    "    df_tag= get_tweets(tag=clave ,state='-1.83, -78.18', startdate=\"2020-04-01\", enddate=\"2020-07-15\",maxtweet= 5000)\n",
    "    lista_df.append(df_tag)\n",
    "    df_final= pd.concat(lista_df)\n",
    "    \n",
    "    "
   ]
  },
  {
   "cell_type": "code",
   "execution_count": 17,
   "metadata": {},
   "outputs": [],
   "source": [
    "# tweets with mentioned people\n",
    "df_solo_ment= df_final[df_final.Mentions!= ''].reset_index()\n",
    "df_solo_ment.User= df_solo_ment.User.str.lower()\n",
    "df_solo_ment.Mentions= df_solo_ment.Mentions.str.lower()\n"
   ]
  },
  {
   "cell_type": "code",
   "execution_count": 18,
   "metadata": {},
   "outputs": [],
   "source": [
    "# dictionary data processing for gephi:\n",
    "user_unico= list(set(df_solo_ment.User))\n",
    "dic_menc= dict()\n",
    "for usuario in user_unico:\n",
    "    lista_quienes_mencione= np.array(''.join( list( df_solo_ment.loc[df_solo_ment.User== usuario,'Mentions'] ) ).replace(' ','').split('@'))[\n",
    "    np.array(''.join( list( df_solo_ment.loc[df_solo_ment.User== usuario,'Mentions'] ) ).replace(' ','').split('@'))!=''].tolist()\n",
    "    mencione_df= pd.DataFrame(pd.Series(lista_quienes_mencione).value_counts()).reset_index()\n",
    "    mencione_df= mencione_df.to_records(index=False)\n",
    "    lista_tupla= list(mencione_df)\n",
    "    dic_menc[usuario]= lista_tupla\n",
    "    "
   ]
  },
  {
   "cell_type": "code",
   "execution_count": 19,
   "metadata": {},
   "outputs": [],
   "source": [
    "# data processing for gephi: origin, arrival(mentioned people), weight( times mentioned)\n",
    "listaOrigen=[]\n",
    "listaLlegada=[]\n",
    "listaArcos=[]\n",
    "for idUser in dic_menc:\n",
    "    listaOrigen.extend([idUser]*len(dic_menc[idUser]))\n",
    "    listaLlegada.extend( list( dict(dic_menc[idUser]).keys()) )\n",
    "    listaArcos.extend( list( dict(dic_menc[idUser]).values()) )\n",
    "    "
   ]
  },
  {
   "cell_type": "code",
   "execution_count": 20,
   "metadata": {},
   "outputs": [],
   "source": [
    "# data processing for gephi\n",
    "data = pd.DataFrame(np.array(listaOrigen))\n",
    "data.rename(columns={0:'Source'},inplace=True)\n",
    "data['Target']= np.array(listaLlegada)\n",
    "data['Weight']= np.array(listaArcos)\n",
    "data['Label']= np.array(['conexion']*len(listaArcos))\n",
    "data['Type']= np.array(['directed']*len(listaArcos))"
   ]
  },
  {
   "cell_type": "code",
   "execution_count": 21,
   "metadata": {},
   "outputs": [],
   "source": [
    "# df for users\n",
    "nod = pd.DataFrame(np.array( list(dic_menc.keys()) ))\n",
    "nod.rename(columns={0:'ID'},inplace=True)\n",
    "nod['Label']= nod['ID']\n",
    "#nod.to_excel('nod.xlsx')"
   ]
  },
  {
   "cell_type": "code",
   "execution_count": 22,
   "metadata": {},
   "outputs": [],
   "source": [
    "# export dataset for gephi\n",
    "#data.to_excel('sna_IESS.xlsx')"
   ]
  },
  {
   "cell_type": "code",
   "execution_count": null,
   "metadata": {},
   "outputs": [],
   "source": []
  }
 ],
 "metadata": {
  "kernelspec": {
   "display_name": "Python 3",
   "language": "python",
   "name": "python3"
  },
  "language_info": {
   "codemirror_mode": {
    "name": "ipython",
    "version": 3
   },
   "file_extension": ".py",
   "mimetype": "text/x-python",
   "name": "python",
   "nbconvert_exporter": "python",
   "pygments_lexer": "ipython3",
   "version": "3.7.7"
  }
 },
 "nbformat": 4,
 "nbformat_minor": 4
}
